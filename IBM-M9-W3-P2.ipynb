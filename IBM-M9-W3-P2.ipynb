{
 "cells": [
  {
   "cell_type": "markdown",
   "metadata": {},
   "source": [
    "# Coursera - IBM - Data Science - Module 9 - Week 3 - Part 2/3\n",
    "Capestone Project - Stephane's assignment\n",
    "Segmenting and Clustering Neighborhoods in Toronto Part 2 of 3"
   ]
  },
  {
   "cell_type": "markdown",
   "metadata": {},
   "source": [
    "#### Importing Libraries"
   ]
  },
  {
   "cell_type": "code",
   "execution_count": 1,
   "metadata": {},
   "outputs": [
    {
     "name": "stdout",
     "output_type": "stream",
     "text": [
      "Requirement already satisfied: bs4 in /home/jupyterlab/conda/envs/python/lib/python3.6/site-packages (0.0.1)\n",
      "Requirement already satisfied: beautifulsoup4 in /home/jupyterlab/conda/envs/python/lib/python3.6/site-packages (from bs4) (4.8.0)\n",
      "Requirement already satisfied: soupsieve>=1.2 in /home/jupyterlab/conda/envs/python/lib/python3.6/site-packages (from beautifulsoup4->bs4) (1.9.4)\n",
      "Requirement already satisfied: wikipedia in /home/jupyterlab/conda/envs/python/lib/python3.6/site-packages (1.4.0)\n",
      "Requirement already satisfied: requests<3.0.0,>=2.0.0 in /home/jupyterlab/conda/envs/python/lib/python3.6/site-packages (from wikipedia) (2.22.0)\n",
      "Requirement already satisfied: beautifulsoup4 in /home/jupyterlab/conda/envs/python/lib/python3.6/site-packages (from wikipedia) (4.8.0)\n",
      "Requirement already satisfied: urllib3!=1.25.0,!=1.25.1,<1.26,>=1.21.1 in /home/jupyterlab/conda/envs/python/lib/python3.6/site-packages (from requests<3.0.0,>=2.0.0->wikipedia) (1.24.3)\n",
      "Requirement already satisfied: chardet<3.1.0,>=3.0.2 in /home/jupyterlab/conda/envs/python/lib/python3.6/site-packages (from requests<3.0.0,>=2.0.0->wikipedia) (3.0.4)\n",
      "Requirement already satisfied: idna<2.9,>=2.5 in /home/jupyterlab/conda/envs/python/lib/python3.6/site-packages (from requests<3.0.0,>=2.0.0->wikipedia) (2.8)\n",
      "Requirement already satisfied: certifi>=2017.4.17 in /home/jupyterlab/conda/envs/python/lib/python3.6/site-packages (from requests<3.0.0,>=2.0.0->wikipedia) (2019.6.16)\n",
      "Requirement already satisfied: soupsieve>=1.2 in /home/jupyterlab/conda/envs/python/lib/python3.6/site-packages (from beautifulsoup4->wikipedia) (1.9.4)\n",
      "Requirement already satisfied: lxml in /home/jupyterlab/conda/envs/python/lib/python3.6/site-packages (4.4.1)\n"
     ]
    }
   ],
   "source": [
    "!pip install bs4\n",
    "!pip install wikipedia\n",
    "!pip install lxml"
   ]
  },
  {
   "cell_type": "code",
   "execution_count": 1,
   "metadata": {},
   "outputs": [],
   "source": [
    "import pandas as pd\n",
    "import numpy as np\n",
    "from bs4 import BeautifulSoup\n",
    "import requests\n",
    "import wikipedia as wp\n",
    "from lxml import html"
   ]
  },
  {
   "cell_type": "code",
   "execution_count": null,
   "metadata": {},
   "outputs": [],
   "source": []
  },
  {
   "cell_type": "markdown",
   "metadata": {},
   "source": [
    "#### Reading Dataframe which was built during Part 1 of the assignment"
   ]
  },
  {
   "cell_type": "code",
   "execution_count": 2,
   "metadata": {},
   "outputs": [],
   "source": [
    "#### Copying csv File to a Pandas dataframe\n",
    "tor_df = pd.read_csv(\"IBM-M9-W3-P1.csv\", delimiter=\",\",index_col=0)"
   ]
  },
  {
   "cell_type": "code",
   "execution_count": 3,
   "metadata": {},
   "outputs": [
    {
     "data": {
      "text/html": [
       "<div>\n",
       "<style scoped>\n",
       "    .dataframe tbody tr th:only-of-type {\n",
       "        vertical-align: middle;\n",
       "    }\n",
       "\n",
       "    .dataframe tbody tr th {\n",
       "        vertical-align: top;\n",
       "    }\n",
       "\n",
       "    .dataframe thead th {\n",
       "        text-align: right;\n",
       "    }\n",
       "</style>\n",
       "<table border=\"1\" class=\"dataframe\">\n",
       "  <thead>\n",
       "    <tr style=\"text-align: right;\">\n",
       "      <th></th>\n",
       "      <th>Postcode</th>\n",
       "      <th>Borough</th>\n",
       "      <th>Neighborhood</th>\n",
       "    </tr>\n",
       "  </thead>\n",
       "  <tbody>\n",
       "    <tr>\n",
       "      <td>0</td>\n",
       "      <td>M1B</td>\n",
       "      <td>Scarborough</td>\n",
       "      <td>Rouge, Malvern</td>\n",
       "    </tr>\n",
       "    <tr>\n",
       "      <td>1</td>\n",
       "      <td>M1C</td>\n",
       "      <td>Scarborough</td>\n",
       "      <td>Highland Creek, Rouge Hill, Port Union</td>\n",
       "    </tr>\n",
       "    <tr>\n",
       "      <td>2</td>\n",
       "      <td>M1E</td>\n",
       "      <td>Scarborough</td>\n",
       "      <td>Guildwood, Morningside, West Hill</td>\n",
       "    </tr>\n",
       "    <tr>\n",
       "      <td>3</td>\n",
       "      <td>M1G</td>\n",
       "      <td>Scarborough</td>\n",
       "      <td>Woburn</td>\n",
       "    </tr>\n",
       "    <tr>\n",
       "      <td>4</td>\n",
       "      <td>M1H</td>\n",
       "      <td>Scarborough</td>\n",
       "      <td>Cedarbrae</td>\n",
       "    </tr>\n",
       "  </tbody>\n",
       "</table>\n",
       "</div>"
      ],
      "text/plain": [
       "  Postcode      Borough                            Neighborhood\n",
       "0      M1B  Scarborough                          Rouge, Malvern\n",
       "1      M1C  Scarborough  Highland Creek, Rouge Hill, Port Union\n",
       "2      M1E  Scarborough       Guildwood, Morningside, West Hill\n",
       "3      M1G  Scarborough                                  Woburn\n",
       "4      M1H  Scarborough                               Cedarbrae"
      ]
     },
     "execution_count": 3,
     "metadata": {},
     "output_type": "execute_result"
    }
   ],
   "source": [
    "#### Checking if upload is correct\n",
    "tor_df.head()"
   ]
  },
  {
   "cell_type": "code",
   "execution_count": 4,
   "metadata": {},
   "outputs": [
    {
     "data": {
      "text/plain": [
       "(103, 3)"
      ]
     },
     "execution_count": 4,
     "metadata": {},
     "output_type": "execute_result"
    }
   ],
   "source": [
    "tor_df.shape"
   ]
  },
  {
   "cell_type": "code",
   "execution_count": null,
   "metadata": {},
   "outputs": [],
   "source": []
  },
  {
   "cell_type": "markdown",
   "metadata": {},
   "source": [
    "#### Getting a copy of Geospatial Data csv file"
   ]
  },
  {
   "cell_type": "code",
   "execution_count": 5,
   "metadata": {},
   "outputs": [
    {
     "name": "stdout",
     "output_type": "stream",
     "text": [
      "--2019-09-30 06:56:14--  https://cocl.us/Geospatial_data\n",
      "Resolving cocl.us (cocl.us)... 169.48.113.194\n",
      "Connecting to cocl.us (cocl.us)|169.48.113.194|:443... connected.\n",
      "HTTP request sent, awaiting response... 301 Moved Permanently\n",
      "Location: https://ibm.box.com/shared/static/9afzr83pps4pwf2smjjcf1y5mvgb18rr.csv [following]\n",
      "--2019-09-30 06:56:15--  https://ibm.box.com/shared/static/9afzr83pps4pwf2smjjcf1y5mvgb18rr.csv\n",
      "Resolving ibm.box.com (ibm.box.com)... 107.152.26.197, 107.152.27.197\n",
      "Connecting to ibm.box.com (ibm.box.com)|107.152.26.197|:443... connected.\n",
      "HTTP request sent, awaiting response... 301 Moved Permanently\n",
      "Location: /public/static/9afzr83pps4pwf2smjjcf1y5mvgb18rr.csv [following]\n",
      "--2019-09-30 06:56:15--  https://ibm.box.com/public/static/9afzr83pps4pwf2smjjcf1y5mvgb18rr.csv\n",
      "Reusing existing connection to ibm.box.com:443.\n",
      "HTTP request sent, awaiting response... 301 Moved Permanently\n",
      "Location: https://ibm.ent.box.com/public/static/9afzr83pps4pwf2smjjcf1y5mvgb18rr.csv [following]\n",
      "--2019-09-30 06:56:15--  https://ibm.ent.box.com/public/static/9afzr83pps4pwf2smjjcf1y5mvgb18rr.csv\n",
      "Resolving ibm.ent.box.com (ibm.ent.box.com)... 107.152.26.211\n",
      "Connecting to ibm.ent.box.com (ibm.ent.box.com)|107.152.26.211|:443... connected.\n",
      "HTTP request sent, awaiting response... 302 Found\n",
      "Location: https://public.boxcloud.com/d/1/b1!B2AYimpoV8ToiUDanv0IOAs1UfVVBMZemji_13BXJWdfamcaiZih-dGZbjmQMOa9zpGrl2Cabz79sXfb9wX2yP1J0au2Byq3Rc0XQnmZeUNuXlfi-s2nqbLF9GA5ETwO1fnLDcteMvMHdJ02At1S7-NOOeWhKqJpDp7NBPC2wxZ_Q7Cnc0bfnEps-Ge6LG_OQ5wgs89Xxp6a1nZGrIIlg3xrBHREGXnB17M7Eqs3b4HC84aD5HIL322h6hhmMLeWvGulUaxGGyDRsX_lsZUUG8HKyE_jGBhLqbA4Pi8-yq7a3dkhfp_qa6ScB-FxZsQSlOwoMvcH0JQBMN2gq1w4tY7Zusqy3xDjLRf6PoZWcQqeCSr1CNxdOy9q3f4iSnczWD2uiXwosDr52gpNSV0clGtWz1R7LbiFT0Ho5QEU6rV5PeLnaXiA8r-XQkgXka-QCP1ERFGCBKujdlSizCSPoFI1MoJBK-UQ-ZQ6STv_yNDnDNI5kZ4PgtryYMxQZW_1gaPiyZ9gWy3yajb8WCJCDU_9XeS17PG1zM-uJ53BhK3E-nxDCDN2vKVfg3UBhTpeZYb8kRmAq-mG2t6Pz0SQmBhHXPqWG_y_-Jlfz7CJmHl96di1ErPMlpISuRjGaniI4wpX8yba34K8CKejOYXnhptzccM1D6CYQOkCqXU-v30hi5gFqiWTdVYzOxcG7LDIJdH6LxwK3ZmxzmnjWfLr9LXh2Jo0NmPsHRa98yQbFIoxVIu0rdSyzIssD3Xu8E-iYb-SQdzb7yqRseu_8UsDjJlwpjJIlzYV8U6xqhArOoWtQoi1VL7cc36NqfE-tXX6Rs7uLhLrrZyS4g3kjQe8LA7sBn5zDk73ZvzZnk6sqMOa4L__I9pLWz4_FCRhPfExh9Q-_7eR-5e_Y85FLYStyX2Kb95U4RO4ELWe9oA1C7n3QcMLb75qrUY9EWTlb3c1NP2MMxKbperLpNncuNoVsjFpbk3yseaTCIXCmtY0y6dbJnYmNknO-XzdzPjCPQLlUQEck7xeRxJ8QjBfzplBDVmQuRHL37A-olxKUvqzGyJXEJLaMGbnoSnTzjIvoFy5UmyN444r7EsiHMJ_Y4n-iBNMTU_-GdmWwYugE85fA6zUUpqRVbod2SpncDW2yvRsdjqL_3FUSnpOQqSLb_9R5U_WTMbvoaJdazc0lk5gQlAl54TQngfsnuzkPBTKzqok0Z4dzo_h0AlqMdTk9tEp4lp5AdJn9wAc6R9o0AhQI2HmqRya9wVbGQrC1LjR1539kDHgOu5FLTQbwV7rAqEuO4iPlkQgowFry7XK6MxSMzv2qKRwBqbGqRVoTY0NS1ikCGU_qM6Lt3cPQvZfXnS5Ohgmhri203MKAncFQ6PwEXyRJ_zW3-WegT5qAxtp/download [following]\n",
      "--2019-09-30 06:56:16--  https://public.boxcloud.com/d/1/b1!B2AYimpoV8ToiUDanv0IOAs1UfVVBMZemji_13BXJWdfamcaiZih-dGZbjmQMOa9zpGrl2Cabz79sXfb9wX2yP1J0au2Byq3Rc0XQnmZeUNuXlfi-s2nqbLF9GA5ETwO1fnLDcteMvMHdJ02At1S7-NOOeWhKqJpDp7NBPC2wxZ_Q7Cnc0bfnEps-Ge6LG_OQ5wgs89Xxp6a1nZGrIIlg3xrBHREGXnB17M7Eqs3b4HC84aD5HIL322h6hhmMLeWvGulUaxGGyDRsX_lsZUUG8HKyE_jGBhLqbA4Pi8-yq7a3dkhfp_qa6ScB-FxZsQSlOwoMvcH0JQBMN2gq1w4tY7Zusqy3xDjLRf6PoZWcQqeCSr1CNxdOy9q3f4iSnczWD2uiXwosDr52gpNSV0clGtWz1R7LbiFT0Ho5QEU6rV5PeLnaXiA8r-XQkgXka-QCP1ERFGCBKujdlSizCSPoFI1MoJBK-UQ-ZQ6STv_yNDnDNI5kZ4PgtryYMxQZW_1gaPiyZ9gWy3yajb8WCJCDU_9XeS17PG1zM-uJ53BhK3E-nxDCDN2vKVfg3UBhTpeZYb8kRmAq-mG2t6Pz0SQmBhHXPqWG_y_-Jlfz7CJmHl96di1ErPMlpISuRjGaniI4wpX8yba34K8CKejOYXnhptzccM1D6CYQOkCqXU-v30hi5gFqiWTdVYzOxcG7LDIJdH6LxwK3ZmxzmnjWfLr9LXh2Jo0NmPsHRa98yQbFIoxVIu0rdSyzIssD3Xu8E-iYb-SQdzb7yqRseu_8UsDjJlwpjJIlzYV8U6xqhArOoWtQoi1VL7cc36NqfE-tXX6Rs7uLhLrrZyS4g3kjQe8LA7sBn5zDk73ZvzZnk6sqMOa4L__I9pLWz4_FCRhPfExh9Q-_7eR-5e_Y85FLYStyX2Kb95U4RO4ELWe9oA1C7n3QcMLb75qrUY9EWTlb3c1NP2MMxKbperLpNncuNoVsjFpbk3yseaTCIXCmtY0y6dbJnYmNknO-XzdzPjCPQLlUQEck7xeRxJ8QjBfzplBDVmQuRHL37A-olxKUvqzGyJXEJLaMGbnoSnTzjIvoFy5UmyN444r7EsiHMJ_Y4n-iBNMTU_-GdmWwYugE85fA6zUUpqRVbod2SpncDW2yvRsdjqL_3FUSnpOQqSLb_9R5U_WTMbvoaJdazc0lk5gQlAl54TQngfsnuzkPBTKzqok0Z4dzo_h0AlqMdTk9tEp4lp5AdJn9wAc6R9o0AhQI2HmqRya9wVbGQrC1LjR1539kDHgOu5FLTQbwV7rAqEuO4iPlkQgowFry7XK6MxSMzv2qKRwBqbGqRVoTY0NS1ikCGU_qM6Lt3cPQvZfXnS5Ohgmhri203MKAncFQ6PwEXyRJ_zW3-WegT5qAxtp/download\n",
      "Resolving public.boxcloud.com (public.boxcloud.com)... 107.152.27.200\n",
      "Connecting to public.boxcloud.com (public.boxcloud.com)|107.152.27.200|:443... connected.\n",
      "HTTP request sent, awaiting response... 200 OK\n",
      "Length: 2891 (2.8K) [text/csv]\n",
      "Saving to: ‘geospatial.csv’\n",
      "\n",
      "geospatial.csv      100%[===================>]   2.82K  --.-KB/s    in 0s      \n",
      "\n",
      "2019-09-30 06:56:17 (74.7 MB/s) - ‘geospatial.csv’ saved [2891/2891]\n",
      "\n"
     ]
    }
   ],
   "source": [
    "!wget -O geospatial.csv https://cocl.us/Geospatial_data"
   ]
  },
  {
   "cell_type": "code",
   "execution_count": 6,
   "metadata": {},
   "outputs": [],
   "source": [
    "#### Copying csv File to a Pandas dataframe\n",
    "geo_data = pd.read_csv(\"geospatial.csv\", delimiter=\",\")"
   ]
  },
  {
   "cell_type": "code",
   "execution_count": 7,
   "metadata": {},
   "outputs": [
    {
     "data": {
      "text/html": [
       "<div>\n",
       "<style scoped>\n",
       "    .dataframe tbody tr th:only-of-type {\n",
       "        vertical-align: middle;\n",
       "    }\n",
       "\n",
       "    .dataframe tbody tr th {\n",
       "        vertical-align: top;\n",
       "    }\n",
       "\n",
       "    .dataframe thead th {\n",
       "        text-align: right;\n",
       "    }\n",
       "</style>\n",
       "<table border=\"1\" class=\"dataframe\">\n",
       "  <thead>\n",
       "    <tr style=\"text-align: right;\">\n",
       "      <th></th>\n",
       "      <th>Postal Code</th>\n",
       "      <th>Latitude</th>\n",
       "      <th>Longitude</th>\n",
       "    </tr>\n",
       "  </thead>\n",
       "  <tbody>\n",
       "    <tr>\n",
       "      <td>0</td>\n",
       "      <td>M1B</td>\n",
       "      <td>43.806686</td>\n",
       "      <td>-79.194353</td>\n",
       "    </tr>\n",
       "    <tr>\n",
       "      <td>1</td>\n",
       "      <td>M1C</td>\n",
       "      <td>43.784535</td>\n",
       "      <td>-79.160497</td>\n",
       "    </tr>\n",
       "    <tr>\n",
       "      <td>2</td>\n",
       "      <td>M1E</td>\n",
       "      <td>43.763573</td>\n",
       "      <td>-79.188711</td>\n",
       "    </tr>\n",
       "    <tr>\n",
       "      <td>3</td>\n",
       "      <td>M1G</td>\n",
       "      <td>43.770992</td>\n",
       "      <td>-79.216917</td>\n",
       "    </tr>\n",
       "    <tr>\n",
       "      <td>4</td>\n",
       "      <td>M1H</td>\n",
       "      <td>43.773136</td>\n",
       "      <td>-79.239476</td>\n",
       "    </tr>\n",
       "  </tbody>\n",
       "</table>\n",
       "</div>"
      ],
      "text/plain": [
       "  Postal Code   Latitude  Longitude\n",
       "0         M1B  43.806686 -79.194353\n",
       "1         M1C  43.784535 -79.160497\n",
       "2         M1E  43.763573 -79.188711\n",
       "3         M1G  43.770992 -79.216917\n",
       "4         M1H  43.773136 -79.239476"
      ]
     },
     "execution_count": 7,
     "metadata": {},
     "output_type": "execute_result"
    }
   ],
   "source": [
    "geo_data.head()"
   ]
  },
  {
   "cell_type": "code",
   "execution_count": 8,
   "metadata": {},
   "outputs": [],
   "source": [
    "#### Renaming Postal Code Column\n",
    "geo_data=geo_data.rename(columns={\"Postal Code\": \"Postcode\"})"
   ]
  },
  {
   "cell_type": "code",
   "execution_count": 9,
   "metadata": {},
   "outputs": [
    {
     "data": {
      "text/html": [
       "<div>\n",
       "<style scoped>\n",
       "    .dataframe tbody tr th:only-of-type {\n",
       "        vertical-align: middle;\n",
       "    }\n",
       "\n",
       "    .dataframe tbody tr th {\n",
       "        vertical-align: top;\n",
       "    }\n",
       "\n",
       "    .dataframe thead th {\n",
       "        text-align: right;\n",
       "    }\n",
       "</style>\n",
       "<table border=\"1\" class=\"dataframe\">\n",
       "  <thead>\n",
       "    <tr style=\"text-align: right;\">\n",
       "      <th></th>\n",
       "      <th>Postcode</th>\n",
       "      <th>Latitude</th>\n",
       "      <th>Longitude</th>\n",
       "    </tr>\n",
       "  </thead>\n",
       "  <tbody>\n",
       "    <tr>\n",
       "      <td>0</td>\n",
       "      <td>M1B</td>\n",
       "      <td>43.806686</td>\n",
       "      <td>-79.194353</td>\n",
       "    </tr>\n",
       "    <tr>\n",
       "      <td>1</td>\n",
       "      <td>M1C</td>\n",
       "      <td>43.784535</td>\n",
       "      <td>-79.160497</td>\n",
       "    </tr>\n",
       "    <tr>\n",
       "      <td>2</td>\n",
       "      <td>M1E</td>\n",
       "      <td>43.763573</td>\n",
       "      <td>-79.188711</td>\n",
       "    </tr>\n",
       "    <tr>\n",
       "      <td>3</td>\n",
       "      <td>M1G</td>\n",
       "      <td>43.770992</td>\n",
       "      <td>-79.216917</td>\n",
       "    </tr>\n",
       "    <tr>\n",
       "      <td>4</td>\n",
       "      <td>M1H</td>\n",
       "      <td>43.773136</td>\n",
       "      <td>-79.239476</td>\n",
       "    </tr>\n",
       "  </tbody>\n",
       "</table>\n",
       "</div>"
      ],
      "text/plain": [
       "  Postcode   Latitude  Longitude\n",
       "0      M1B  43.806686 -79.194353\n",
       "1      M1C  43.784535 -79.160497\n",
       "2      M1E  43.763573 -79.188711\n",
       "3      M1G  43.770992 -79.216917\n",
       "4      M1H  43.773136 -79.239476"
      ]
     },
     "execution_count": 9,
     "metadata": {},
     "output_type": "execute_result"
    }
   ],
   "source": [
    "geo_data.head()"
   ]
  },
  {
   "cell_type": "markdown",
   "metadata": {},
   "source": [
    "#### Creating a Combination of both dataframes"
   ]
  },
  {
   "cell_type": "code",
   "execution_count": 10,
   "metadata": {},
   "outputs": [],
   "source": [
    "tor_df=tor_df.merge(geo_data)\n"
   ]
  },
  {
   "cell_type": "code",
   "execution_count": 11,
   "metadata": {},
   "outputs": [
    {
     "data": {
      "text/html": [
       "<div>\n",
       "<style scoped>\n",
       "    .dataframe tbody tr th:only-of-type {\n",
       "        vertical-align: middle;\n",
       "    }\n",
       "\n",
       "    .dataframe tbody tr th {\n",
       "        vertical-align: top;\n",
       "    }\n",
       "\n",
       "    .dataframe thead th {\n",
       "        text-align: right;\n",
       "    }\n",
       "</style>\n",
       "<table border=\"1\" class=\"dataframe\">\n",
       "  <thead>\n",
       "    <tr style=\"text-align: right;\">\n",
       "      <th></th>\n",
       "      <th>Postcode</th>\n",
       "      <th>Borough</th>\n",
       "      <th>Neighborhood</th>\n",
       "      <th>Latitude</th>\n",
       "      <th>Longitude</th>\n",
       "    </tr>\n",
       "  </thead>\n",
       "  <tbody>\n",
       "    <tr>\n",
       "      <td>0</td>\n",
       "      <td>M1B</td>\n",
       "      <td>Scarborough</td>\n",
       "      <td>Rouge, Malvern</td>\n",
       "      <td>43.806686</td>\n",
       "      <td>-79.194353</td>\n",
       "    </tr>\n",
       "    <tr>\n",
       "      <td>1</td>\n",
       "      <td>M1C</td>\n",
       "      <td>Scarborough</td>\n",
       "      <td>Highland Creek, Rouge Hill, Port Union</td>\n",
       "      <td>43.784535</td>\n",
       "      <td>-79.160497</td>\n",
       "    </tr>\n",
       "    <tr>\n",
       "      <td>2</td>\n",
       "      <td>M1E</td>\n",
       "      <td>Scarborough</td>\n",
       "      <td>Guildwood, Morningside, West Hill</td>\n",
       "      <td>43.763573</td>\n",
       "      <td>-79.188711</td>\n",
       "    </tr>\n",
       "    <tr>\n",
       "      <td>3</td>\n",
       "      <td>M1G</td>\n",
       "      <td>Scarborough</td>\n",
       "      <td>Woburn</td>\n",
       "      <td>43.770992</td>\n",
       "      <td>-79.216917</td>\n",
       "    </tr>\n",
       "    <tr>\n",
       "      <td>4</td>\n",
       "      <td>M1H</td>\n",
       "      <td>Scarborough</td>\n",
       "      <td>Cedarbrae</td>\n",
       "      <td>43.773136</td>\n",
       "      <td>-79.239476</td>\n",
       "    </tr>\n",
       "  </tbody>\n",
       "</table>\n",
       "</div>"
      ],
      "text/plain": [
       "  Postcode      Borough                            Neighborhood   Latitude  \\\n",
       "0      M1B  Scarborough                          Rouge, Malvern  43.806686   \n",
       "1      M1C  Scarborough  Highland Creek, Rouge Hill, Port Union  43.784535   \n",
       "2      M1E  Scarborough       Guildwood, Morningside, West Hill  43.763573   \n",
       "3      M1G  Scarborough                                  Woburn  43.770992   \n",
       "4      M1H  Scarborough                               Cedarbrae  43.773136   \n",
       "\n",
       "   Longitude  \n",
       "0 -79.194353  \n",
       "1 -79.160497  \n",
       "2 -79.188711  \n",
       "3 -79.216917  \n",
       "4 -79.239476  "
      ]
     },
     "execution_count": 11,
     "metadata": {},
     "output_type": "execute_result"
    }
   ],
   "source": [
    "tor_df.head()"
   ]
  },
  {
   "cell_type": "code",
   "execution_count": null,
   "metadata": {},
   "outputs": [],
   "source": []
  },
  {
   "cell_type": "markdown",
   "metadata": {},
   "source": [
    "#### Saving Data Frame to File"
   ]
  },
  {
   "cell_type": "code",
   "execution_count": 12,
   "metadata": {},
   "outputs": [],
   "source": [
    "tor_df.to_csv(\"IBM-M9-W3-P2.csv\")"
   ]
  },
  {
   "cell_type": "code",
   "execution_count": null,
   "metadata": {},
   "outputs": [],
   "source": []
  },
  {
   "cell_type": "markdown",
   "metadata": {},
   "source": [
    "#### Showing shape of the Data Frame"
   ]
  },
  {
   "cell_type": "code",
   "execution_count": 13,
   "metadata": {},
   "outputs": [
    {
     "data": {
      "text/plain": [
       "(103, 5)"
      ]
     },
     "execution_count": 13,
     "metadata": {},
     "output_type": "execute_result"
    }
   ],
   "source": [
    "tor_df.shape"
   ]
  },
  {
   "cell_type": "code",
   "execution_count": null,
   "metadata": {},
   "outputs": [],
   "source": []
  },
  {
   "cell_type": "code",
   "execution_count": null,
   "metadata": {},
   "outputs": [],
   "source": []
  }
 ],
 "metadata": {
  "kernelspec": {
   "display_name": "Python",
   "language": "python",
   "name": "conda-env-python-py"
  },
  "language_info": {
   "codemirror_mode": {
    "name": "ipython",
    "version": 3
   },
   "file_extension": ".py",
   "mimetype": "text/x-python",
   "name": "python",
   "nbconvert_exporter": "python",
   "pygments_lexer": "ipython3",
   "version": "3.6.7"
  }
 },
 "nbformat": 4,
 "nbformat_minor": 4
}
